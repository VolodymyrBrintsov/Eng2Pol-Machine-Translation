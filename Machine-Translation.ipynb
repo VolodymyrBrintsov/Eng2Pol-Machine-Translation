{
 "cells": [
  {
   "cell_type": "code",
   "execution_count": 1,
   "metadata": {
    "collapsed": true
   },
   "outputs": [
    {
     "name": "stderr",
     "output_type": "stream",
     "text": [
      "2021-11-18 14:12:39.879456: W tensorflow/stream_executor/platform/default/dso_loader.cc:64] Could not load dynamic library 'libcudart.so.11.0'; dlerror: libcudart.so.11.0: cannot open shared object file: No such file or directory\n",
      "2021-11-18 14:12:39.879482: I tensorflow/stream_executor/cuda/cudart_stub.cc:29] Ignore above cudart dlerror if you do not have a GPU set up on your machine.\n"
     ]
    }
   ],
   "source": [
    "import pandas as pd\n",
    "from sklearn.model_selection import train_test_split\n",
    "import string\n",
    "from string import digits\n",
    "import re\n",
    "from sklearn.utils import shuffle\n",
    "from tensorflow.keras.preprocessing.sequence import pad_sequences\n",
    "from tensorflow.keras.layers import LSTM, Input, Dense,Embedding, Concatenate, TimeDistributed\n",
    "from tensorflow.keras.models import Model,load_model, model_from_json\n",
    "from tensorflow.keras.utils import plot_model\n",
    "from tensorflow.keras.preprocessing.text import one_hot, Tokenizer\n",
    "from tensorflow.keras.callbacks import EarlyStopping\n",
    "import numpy as np"
   ]
  },
  {
   "cell_type": "markdown",
   "source": [
    "# Read the Data and Create DF"
   ],
   "metadata": {
    "collapsed": false,
    "pycharm": {
     "name": "#%% md\n"
    }
   }
  },
  {
   "cell_type": "code",
   "execution_count": 2,
   "outputs": [
    {
     "name": "stdout",
     "output_type": "stream",
     "text": [
      "632566 632566\n"
     ]
    }
   ],
   "source": [
    "en_text = open('data/europarl-v7.pl-en.en', 'r').read().split('\\n')\n",
    "pl_text = open('data/europarl-v7.pl-en.pl', 'r').read().split('\\n')\n",
    "print(len(pl_text), len(en_text))"
   ],
   "metadata": {
    "collapsed": false,
    "pycharm": {
     "name": "#%%\n"
    }
   }
  },
  {
   "cell_type": "code",
   "execution_count": 3,
   "outputs": [
    {
     "data": {
      "text/plain": "                                                  en  \\\n0  Action taken on Parliament's resolutions: see ...   \n1                    Documents received: see Minutes   \n2         Written statements (Rule 116): see Minutes   \n3  Texts of agreements forwarded by the Council: ...   \n4              Membership of Parliament: see Minutes   \n\n                                                  pl  \n0  Działania podjęte w wyniku rezolucji Parlament...  \n1               Składanie dokumentów: patrz protokół  \n2  Oświadczenia pisemne (art. 116 Regulaminu): pa...  \n3  Teksty porozumień przekazane przez Radę: patrz...  \n4                   Skład Parlamentu: patrz protokół  ",
      "text/html": "<div>\n<style scoped>\n    .dataframe tbody tr th:only-of-type {\n        vertical-align: middle;\n    }\n\n    .dataframe tbody tr th {\n        vertical-align: top;\n    }\n\n    .dataframe thead th {\n        text-align: right;\n    }\n</style>\n<table border=\"1\" class=\"dataframe\">\n  <thead>\n    <tr style=\"text-align: right;\">\n      <th></th>\n      <th>en</th>\n      <th>pl</th>\n    </tr>\n  </thead>\n  <tbody>\n    <tr>\n      <th>0</th>\n      <td>Action taken on Parliament's resolutions: see ...</td>\n      <td>Działania podjęte w wyniku rezolucji Parlament...</td>\n    </tr>\n    <tr>\n      <th>1</th>\n      <td>Documents received: see Minutes</td>\n      <td>Składanie dokumentów: patrz protokół</td>\n    </tr>\n    <tr>\n      <th>2</th>\n      <td>Written statements (Rule 116): see Minutes</td>\n      <td>Oświadczenia pisemne (art. 116 Regulaminu): pa...</td>\n    </tr>\n    <tr>\n      <th>3</th>\n      <td>Texts of agreements forwarded by the Council: ...</td>\n      <td>Teksty porozumień przekazane przez Radę: patrz...</td>\n    </tr>\n    <tr>\n      <th>4</th>\n      <td>Membership of Parliament: see Minutes</td>\n      <td>Skład Parlamentu: patrz protokół</td>\n    </tr>\n  </tbody>\n</table>\n</div>"
     },
     "execution_count": 3,
     "metadata": {},
     "output_type": "execute_result"
    }
   ],
   "source": [
    "language_df = pd.DataFrame(columns=['en', 'pl'])\n",
    "en_list = []\n",
    "pl_list = []\n",
    "for i in range(len(pl_text)):\n",
    "    en_list.append(en_text[i])\n",
    "    pl_list.append(pl_text[i])\n",
    "language_df['en'] = en_list\n",
    "language_df['pl'] = pl_list\n",
    "language_df.head()"
   ],
   "metadata": {
    "collapsed": false,
    "pycharm": {
     "name": "#%%\n"
    }
   }
  },
  {
   "cell_type": "markdown",
   "source": [
    "# Data Cleaning"
   ],
   "metadata": {
    "collapsed": false,
    "pycharm": {
     "name": "#%% md\n"
    }
   }
  },
  {
   "cell_type": "code",
   "execution_count": 4,
   "outputs": [
    {
     "data": {
      "text/plain": "                                                  en  \\\n0  action taken on parliaments resolutions see mi...   \n1                     documents received see minutes   \n2               written statements rule  see minutes   \n3  texts of agreements forwarded by the council s...   \n4               membership of parliament see minutes   \n\n                                                  pl  \n0  działania podjęte w wyniku rezolucji parlament...  \n1                składanie dokumentów patrz protokół  \n2  oświadczenia pisemne art  regulaminu patrz pro...  \n3  teksty porozumień przekazane przez radę patrz ...  \n4                    skład parlamentu patrz protokół  ",
      "text/html": "<div>\n<style scoped>\n    .dataframe tbody tr th:only-of-type {\n        vertical-align: middle;\n    }\n\n    .dataframe tbody tr th {\n        vertical-align: top;\n    }\n\n    .dataframe thead th {\n        text-align: right;\n    }\n</style>\n<table border=\"1\" class=\"dataframe\">\n  <thead>\n    <tr style=\"text-align: right;\">\n      <th></th>\n      <th>en</th>\n      <th>pl</th>\n    </tr>\n  </thead>\n  <tbody>\n    <tr>\n      <th>0</th>\n      <td>action taken on parliaments resolutions see mi...</td>\n      <td>działania podjęte w wyniku rezolucji parlament...</td>\n    </tr>\n    <tr>\n      <th>1</th>\n      <td>documents received see minutes</td>\n      <td>składanie dokumentów patrz protokół</td>\n    </tr>\n    <tr>\n      <th>2</th>\n      <td>written statements rule  see minutes</td>\n      <td>oświadczenia pisemne art  regulaminu patrz pro...</td>\n    </tr>\n    <tr>\n      <th>3</th>\n      <td>texts of agreements forwarded by the council s...</td>\n      <td>teksty porozumień przekazane przez radę patrz ...</td>\n    </tr>\n    <tr>\n      <th>4</th>\n      <td>membership of parliament see minutes</td>\n      <td>skład parlamentu patrz protokół</td>\n    </tr>\n  </tbody>\n</table>\n</div>"
     },
     "execution_count": 4,
     "metadata": {},
     "output_type": "execute_result"
    }
   ],
   "source": [
    "def clean_text(text):\n",
    "    # to lower case and remove spaces and end and start\n",
    "    text = text.lower().strip()\n",
    "    # remove digits\n",
    "    text = re.sub('\\d', '', text)\n",
    "    # remove punctuation\n",
    "    text = text.translate(str.maketrans('', '', string.punctuation))\n",
    "    return text\n",
    "\n",
    "language_df['en'] = language_df['en'].apply(clean_text)\n",
    "language_df['pl'] = language_df['pl'].apply(clean_text)\n",
    "language_df.head()"
   ],
   "metadata": {
    "collapsed": false,
    "pycharm": {
     "name": "#%%\n"
    }
   }
  },
  {
   "cell_type": "code",
   "execution_count": 5,
   "outputs": [
    {
     "name": "stdout",
     "output_type": "stream",
     "text": [
      "English Sentence: action taken on parliaments resolutions see minutes\n",
      "Polish Sentence: START działania podjęte w wyniku rezolucji parlamentu patrz protokól END\n"
     ]
    }
   ],
   "source": [
    "# putting START and END in polish sentences\n",
    "language_df['pl'] = language_df['pl'].apply(lambda text: \"START \"+text+\" END\")\n",
    "print(\"English Sentence: \" + language_df['en'].iloc[0])\n",
    "print(\"Polish Sentence: \" + language_df['pl'].iloc[0])"
   ],
   "metadata": {
    "collapsed": false,
    "pycharm": {
     "name": "#%%\n"
    }
   }
  },
  {
   "cell_type": "markdown",
   "source": [
    "# Data Preparation for Model Building"
   ],
   "metadata": {
    "collapsed": false,
    "pycharm": {
     "name": "#%% md\n"
    }
   }
  },
  {
   "cell_type": "code",
   "execution_count": 7,
   "outputs": [
    {
     "data": {
      "text/plain": "254"
     },
     "execution_count": 7,
     "metadata": {},
     "output_type": "execute_result"
    }
   ],
   "source": [
    "# train test split\n",
    "x = language_df['en']\n",
    "y = language_df['pl']\n",
    "x_train, x_test, y_train, y_test = train_test_split(x, y, test_size=0.1)\n",
    "\n",
    "# determine the maximum length of sentence\n",
    "def determine_max_len(data):\n",
    "    return max([len(x.split(' ')) for x in data])\n",
    "max_len = max(determine_max_len(x_train), determine_max_len(y_train))\n",
    "max_len"
   ],
   "metadata": {
    "collapsed": false,
    "pycharm": {
     "name": "#%%\n"
    }
   }
  },
  {
   "cell_type": "code",
   "execution_count": 8,
   "outputs": [
    {
     "data": {
      "text/plain": "(array([  14,   52,   57, 3568,   35, 3413,   85, 2781,    5,  521,    0,\n           0,    0,    0,    0,    0,    0,    0,    0,    0,    0,    0,\n           0,    0,    0,    0,    0,    0,    0,    0,    0,    0,    0,\n           0,    0,    0,    0,    0,    0,    0,    0,    0,    0,    0,\n           0,    0,    0,    0,    0,    0,    0,    0,    0,    0,    0,\n           0,    0,    0,    0,    0,    0,    0,    0,    0,    0,    0,\n           0,    0,    0,    0,    0,    0,    0,    0,    0,    0,    0,\n           0,    0,    0,    0,    0,    0,    0,    0,    0,    0,    0,\n           0,    0,    0,    0,    0,    0,    0,    0,    0,    0,    0,\n           0,    0,    0,    0,    0,    0,    0,    0,    0,    0,    0,\n           0,    0,    0,    0,    0,    0,    0,    0,    0,    0,    0,\n           0,    0,    0,    0,    0,    0,    0,    0,    0,    0,    0,\n           0,    0,    0,    0,    0,    0,    0,    0,    0,    0,    0,\n           0,    0,    0,    0,    0,    0,    0,    0,    0,    0,    0,\n           0,    0,    0,    0,    0,    0,    0,    0,    0,    0,    0,\n           0,    0,    0,    0,    0,    0,    0,    0,    0,    0,    0,\n           0,    0,    0,    0,    0,    0,    0,    0,    0,    0,    0,\n           0,    0,    0,    0,    0,    0,    0,    0,    0,    0,    0,\n           0,    0,    0,    0,    0,    0,    0,    0,    0,    0,    0,\n           0,    0,    0,    0,    0,    0,    0,    0,    0,    0,    0,\n           0,    0,    0,    0,    0,    0,    0,    0,    0,    0,    0,\n           0,    0,    0,    0,    0,    0,    0,    0,    0,    0,    0,\n           0,    0,    0,    0,    0,    0,    0,    0,    0,    0,    0,\n           0], dtype=int32),\n array([    1,   991,   185, 10500,    31,    10,  6276,   644,   407,\n            2,     0,     0,     0,     0,     0,     0,     0,     0,\n            0,     0,     0,     0,     0,     0,     0,     0,     0,\n            0,     0,     0,     0,     0,     0,     0,     0,     0,\n            0,     0,     0,     0,     0,     0,     0,     0,     0,\n            0,     0,     0,     0,     0,     0,     0,     0,     0,\n            0,     0,     0,     0,     0,     0,     0,     0,     0,\n            0,     0,     0,     0,     0,     0,     0,     0,     0,\n            0,     0,     0,     0,     0,     0,     0,     0,     0,\n            0,     0,     0,     0,     0,     0,     0,     0,     0,\n            0,     0,     0,     0,     0,     0,     0,     0,     0,\n            0,     0,     0,     0,     0,     0,     0,     0,     0,\n            0,     0,     0,     0,     0,     0,     0,     0,     0,\n            0,     0,     0,     0,     0,     0,     0,     0,     0,\n            0,     0,     0,     0,     0,     0,     0,     0,     0,\n            0,     0,     0,     0,     0,     0,     0,     0,     0,\n            0,     0,     0,     0,     0,     0,     0,     0,     0,\n            0,     0,     0,     0,     0,     0,     0,     0,     0,\n            0,     0,     0,     0,     0,     0,     0,     0,     0,\n            0,     0,     0,     0,     0,     0,     0,     0,     0,\n            0,     0,     0,     0,     0,     0,     0,     0,     0,\n            0,     0,     0,     0,     0,     0,     0,     0,     0,\n            0,     0,     0,     0,     0,     0,     0,     0,     0,\n            0,     0,     0,     0,     0,     0,     0,     0,     0,\n            0,     0,     0,     0,     0,     0,     0,     0,     0,\n            0,     0,     0,     0,     0,     0,     0,     0,     0,\n            0,     0,     0,     0,     0,     0,     0,     0,     0,\n            0,     0,     0,     0,     0,     0,     0,     0,     0,\n            0,     0], dtype=int32))"
     },
     "execution_count": 8,
     "metadata": {},
     "output_type": "execute_result"
    }
   ],
   "source": [
    "# tokenization\n",
    "en_tokenizer = Tokenizer()\n",
    "en_tokenizer.fit_on_texts(x_train)\n",
    "vocab_size_en = len(en_tokenizer.word_index) + 1\n",
    "\n",
    "x_train = en_tokenizer.texts_to_sequences(x_train)\n",
    "x_train = pad_sequences(x_train, maxlen=max_len, padding='post')\n",
    "x_test = en_tokenizer.texts_to_sequences(x_test)\n",
    "x_test = pad_sequences(x_test, maxlen=max_len, padding='post')\n",
    "\n",
    "pl_tokenizer = Tokenizer()\n",
    "pl_tokenizer.fit_on_texts(y_train)\n",
    "vocab_size_pl = len(pl_tokenizer.word_index) + 1\n",
    "\n",
    "y_train = pl_tokenizer.texts_to_sequences(y_train)\n",
    "y_train = pad_sequences(y_train, maxlen=max_len, padding='post')\n",
    "y_test = pl_tokenizer.texts_to_sequences(y_test)\n",
    "y_test = pad_sequences(y_test, maxlen=max_len, padding='post')\n",
    "x_train[0], y_train[0]"
   ],
   "metadata": {
    "collapsed": false,
    "pycharm": {
     "name": "#%%\n"
    }
   }
  },
  {
   "cell_type": "markdown",
   "source": [
    "# Define Model"
   ],
   "metadata": {
    "collapsed": false,
    "pycharm": {
     "name": "#%% md\n"
    }
   }
  },
  {
   "cell_type": "code",
   "execution_count": 9,
   "outputs": [],
   "source": [
    "from tensorflow.keras.layers import Attention"
   ],
   "metadata": {
    "collapsed": false,
    "pycharm": {
     "name": "#%%\n"
    }
   }
  },
  {
   "cell_type": "markdown",
   "source": [
    "## Encoder"
   ],
   "metadata": {
    "collapsed": false,
    "pycharm": {
     "name": "#%% md\n"
    }
   }
  },
  {
   "cell_type": "code",
   "execution_count": 13,
   "outputs": [],
   "source": [
    "encoder_input = Input(shape=(max_len, ))\n",
    "encoder_embedding = Embedding(vocab_size_en, 500, trainable=True)(encoder_input)\n",
    "\n",
    "# LSTM with states\n",
    "encoder_lstm_1 = LSTM(256, return_sequences=True)(encoder_embedding)\n",
    "encoder_lstm_2 = LSTM(256, return_sequences=True)(encoder_lstm_1)\n",
    "encoder_output, state_h, state_c = LSTM(256, return_sequences=True, return_state=True)(encoder_lstm_2)"
   ],
   "metadata": {
    "collapsed": false,
    "pycharm": {
     "name": "#%%\n"
    }
   }
  },
  {
   "cell_type": "markdown",
   "source": [
    "## Decoder"
   ],
   "metadata": {
    "collapsed": false,
    "pycharm": {
     "name": "#%% md\n"
    }
   }
  },
  {
   "cell_type": "code",
   "execution_count": 14,
   "outputs": [
    {
     "ename": "TypeError",
     "evalue": "Cannot iterate over a Tensor with unknown first dimension.",
     "output_type": "error",
     "traceback": [
      "\u001B[0;31m---------------------------------------------------------------------------\u001B[0m",
      "\u001B[0;31mTypeError\u001B[0m                                 Traceback (most recent call last)",
      "\u001B[0;32m/tmp/ipykernel_131046/3999748406.py\u001B[0m in \u001B[0;36m<module>\u001B[0;34m\u001B[0m\n\u001B[1;32m      6\u001B[0m \u001B[0;34m\u001B[0m\u001B[0m\n\u001B[1;32m      7\u001B[0m \u001B[0;31m# attention layer\u001B[0m\u001B[0;34m\u001B[0m\u001B[0;34m\u001B[0m\u001B[0;34m\u001B[0m\u001B[0m\n\u001B[0;32m----> 8\u001B[0;31m \u001B[0mattn_out\u001B[0m\u001B[0;34m,\u001B[0m \u001B[0mattn_states\u001B[0m \u001B[0;34m=\u001B[0m \u001B[0mAttention\u001B[0m\u001B[0;34m(\u001B[0m\u001B[0;34m)\u001B[0m\u001B[0;34m(\u001B[0m\u001B[0;34m[\u001B[0m\u001B[0mencoder_output\u001B[0m\u001B[0;34m,\u001B[0m \u001B[0mdecoder_lstm_output\u001B[0m\u001B[0;34m]\u001B[0m\u001B[0;34m)\u001B[0m\u001B[0;34m\u001B[0m\u001B[0;34m\u001B[0m\u001B[0m\n\u001B[0m\u001B[1;32m      9\u001B[0m \u001B[0mdecoder_concat_input\u001B[0m \u001B[0;34m=\u001B[0m \u001B[0mConcatenate\u001B[0m\u001B[0;34m(\u001B[0m\u001B[0maxis\u001B[0m\u001B[0;34m=\u001B[0m\u001B[0;34m-\u001B[0m\u001B[0;36m1\u001B[0m\u001B[0;34m,\u001B[0m\u001B[0;34m)\u001B[0m\u001B[0;34m(\u001B[0m\u001B[0;34m[\u001B[0m\u001B[0mdecoder_lstm_output\u001B[0m\u001B[0;34m,\u001B[0m \u001B[0mattn_out\u001B[0m\u001B[0;34m]\u001B[0m\u001B[0;34m)\u001B[0m\u001B[0;34m\u001B[0m\u001B[0;34m\u001B[0m\u001B[0m\n\u001B[1;32m     10\u001B[0m \u001B[0;34m\u001B[0m\u001B[0m\n",
      "\u001B[0;32m~/.local/lib/python3.8/site-packages/keras/engine/keras_tensor.py\u001B[0m in \u001B[0;36m__iter__\u001B[0;34m(self)\u001B[0m\n\u001B[1;32m    377\u001B[0m       \u001B[0;32mraise\u001B[0m \u001B[0mTypeError\u001B[0m\u001B[0;34m(\u001B[0m\u001B[0;34m'Cannot iterate over a scalar.'\u001B[0m\u001B[0;34m)\u001B[0m\u001B[0;34m\u001B[0m\u001B[0;34m\u001B[0m\u001B[0m\n\u001B[1;32m    378\u001B[0m     \u001B[0;32mif\u001B[0m \u001B[0mshape\u001B[0m\u001B[0;34m[\u001B[0m\u001B[0;36m0\u001B[0m\u001B[0;34m]\u001B[0m \u001B[0;32mis\u001B[0m \u001B[0;32mNone\u001B[0m\u001B[0;34m:\u001B[0m\u001B[0;34m\u001B[0m\u001B[0;34m\u001B[0m\u001B[0m\n\u001B[0;32m--> 379\u001B[0;31m       raise TypeError(\n\u001B[0m\u001B[1;32m    380\u001B[0m           'Cannot iterate over a Tensor with unknown first dimension.')\n\u001B[1;32m    381\u001B[0m     \u001B[0;32mreturn\u001B[0m \u001B[0m_KerasTensorIterator\u001B[0m\u001B[0;34m(\u001B[0m\u001B[0mself\u001B[0m\u001B[0;34m,\u001B[0m \u001B[0mshape\u001B[0m\u001B[0;34m[\u001B[0m\u001B[0;36m0\u001B[0m\u001B[0;34m]\u001B[0m\u001B[0;34m)\u001B[0m\u001B[0;34m\u001B[0m\u001B[0;34m\u001B[0m\u001B[0m\n",
      "\u001B[0;31mTypeError\u001B[0m: Cannot iterate over a Tensor with unknown first dimension."
     ]
    }
   ],
   "source": [
    "decoder_input = Input(shape=(None, ))\n",
    "decoder_embedding = Embedding(vocab_size_pl, 500, trainable=True)(decoder_input)\n",
    "\n",
    "# decoder LSTM on encoder states\n",
    "decoder_lstm_output, decoder_fwd_state, decoder_bwd_state, = LSTM(256, return_sequences=True, return_state=True)(decoder_embedding, initial_state=[state_h, state_c])\n",
    "\n",
    "# attention layer\n",
    "attn_out, attn_states = Attention()([encoder_output, decoder_lstm_output])\n",
    "decoder_concat_input = Concatenate(axis=-1,)([decoder_lstm_output, attn_out])\n",
    "\n",
    "decoder_output = TimeDistributed(Dense(vocab_size_pl, activation='softmax'))(decoder_concat_input)"
   ],
   "metadata": {
    "collapsed": false,
    "pycharm": {
     "name": "#%%\n"
    }
   }
  },
  {
   "cell_type": "code",
   "execution_count": null,
   "outputs": [],
   "source": [],
   "metadata": {
    "collapsed": false,
    "pycharm": {
     "name": "#%%\n"
    }
   }
  }
 ],
 "metadata": {
  "kernelspec": {
   "display_name": "Python 3",
   "language": "python",
   "name": "python3"
  },
  "language_info": {
   "codemirror_mode": {
    "name": "ipython",
    "version": 2
   },
   "file_extension": ".py",
   "mimetype": "text/x-python",
   "name": "python",
   "nbconvert_exporter": "python",
   "pygments_lexer": "ipython2",
   "version": "2.7.6"
  }
 },
 "nbformat": 4,
 "nbformat_minor": 0
}