{
 "cells": [
  {
   "cell_type": "code",
   "execution_count": 1,
   "metadata": {
    "collapsed": true
   },
   "outputs": [
    {
     "name": "stderr",
     "output_type": "stream",
     "text": [
      "2021-11-18 13:57:46.309049: W tensorflow/stream_executor/platform/default/dso_loader.cc:64] Could not load dynamic library 'libcudart.so.11.0'; dlerror: libcudart.so.11.0: cannot open shared object file: No such file or directory\n",
      "2021-11-18 13:57:46.309078: I tensorflow/stream_executor/cuda/cudart_stub.cc:29] Ignore above cudart dlerror if you do not have a GPU set up on your machine.\n"
     ]
    }
   ],
   "source": [
    "import pandas as pd\n",
    "from sklearn.model_selection import train_test_split\n",
    "import string\n",
    "from string import digits\n",
    "import re\n",
    "from sklearn.utils import shuffle\n",
    "from tensorflow.keras.preprocessing.sequence import pad_sequences\n",
    "from tensorflow.keras.layers import LSTM, Input, Dense,Embedding, Concatenate, TimeDistributed\n",
    "from tensorflow.keras.models import Model,load_model, model_from_json\n",
    "from tensorflow.keras.utils import plot_model\n",
    "from tensorflow.keras.preprocessing.text import one_hot, Tokenizer\n",
    "from tensorflow.keras.callbacks import EarlyStopping\n",
    "import numpy as np"
   ]
  },
  {
   "cell_type": "markdown",
   "source": [
    "# Read the Data and Create DF"
   ],
   "metadata": {
    "collapsed": false,
    "pycharm": {
     "name": "#%% md\n"
    }
   }
  },
  {
   "cell_type": "code",
   "execution_count": 5,
   "outputs": [
    {
     "name": "stdout",
     "output_type": "stream",
     "text": [
      "632566 632566\n"
     ]
    }
   ],
   "source": [
    "en_text = open('data/europarl-v7.pl-en.en', 'r').read().split('\\n')\n",
    "pl_text = open('data/europarl-v7.pl-en.pl', 'r').read().split('\\n')\n",
    "print(len(pl_text), len(en_text))"
   ],
   "metadata": {
    "collapsed": false,
    "pycharm": {
     "name": "#%%\n"
    }
   }
  },
  {
   "cell_type": "code",
   "execution_count": 6,
   "outputs": [
    {
     "data": {
      "text/plain": "                                                  en  \\\n0  Action taken on Parliament's resolutions: see ...   \n1                    Documents received: see Minutes   \n2         Written statements (Rule 116): see Minutes   \n3  Texts of agreements forwarded by the Council: ...   \n4              Membership of Parliament: see Minutes   \n\n                                                  pl  \n0  Działania podjęte w wyniku rezolucji Parlament...  \n1               Składanie dokumentów: patrz protokół  \n2  Oświadczenia pisemne (art. 116 Regulaminu): pa...  \n3  Teksty porozumień przekazane przez Radę: patrz...  \n4                   Skład Parlamentu: patrz protokół  ",
      "text/html": "<div>\n<style scoped>\n    .dataframe tbody tr th:only-of-type {\n        vertical-align: middle;\n    }\n\n    .dataframe tbody tr th {\n        vertical-align: top;\n    }\n\n    .dataframe thead th {\n        text-align: right;\n    }\n</style>\n<table border=\"1\" class=\"dataframe\">\n  <thead>\n    <tr style=\"text-align: right;\">\n      <th></th>\n      <th>en</th>\n      <th>pl</th>\n    </tr>\n  </thead>\n  <tbody>\n    <tr>\n      <th>0</th>\n      <td>Action taken on Parliament's resolutions: see ...</td>\n      <td>Działania podjęte w wyniku rezolucji Parlament...</td>\n    </tr>\n    <tr>\n      <th>1</th>\n      <td>Documents received: see Minutes</td>\n      <td>Składanie dokumentów: patrz protokół</td>\n    </tr>\n    <tr>\n      <th>2</th>\n      <td>Written statements (Rule 116): see Minutes</td>\n      <td>Oświadczenia pisemne (art. 116 Regulaminu): pa...</td>\n    </tr>\n    <tr>\n      <th>3</th>\n      <td>Texts of agreements forwarded by the Council: ...</td>\n      <td>Teksty porozumień przekazane przez Radę: patrz...</td>\n    </tr>\n    <tr>\n      <th>4</th>\n      <td>Membership of Parliament: see Minutes</td>\n      <td>Skład Parlamentu: patrz protokół</td>\n    </tr>\n  </tbody>\n</table>\n</div>"
     },
     "execution_count": 6,
     "metadata": {},
     "output_type": "execute_result"
    }
   ],
   "source": [
    "language_df = pd.DataFrame(columns=['en', 'pl'])\n",
    "en_list = []\n",
    "pl_list = []\n",
    "for i in range(len(pl_text)):\n",
    "    en_list.append(en_text[i])\n",
    "    pl_list.append(pl_text[i])\n",
    "language_df['en'] = en_list\n",
    "language_df['pl'] = pl_list\n",
    "language_df.head()"
   ],
   "metadata": {
    "collapsed": false,
    "pycharm": {
     "name": "#%%\n"
    }
   }
  },
  {
   "cell_type": "code",
   "execution_count": null,
   "outputs": [],
   "source": [],
   "metadata": {
    "collapsed": false,
    "pycharm": {
     "name": "#%%\n"
    }
   }
  }
 ],
 "metadata": {
  "kernelspec": {
   "display_name": "Python 3",
   "language": "python",
   "name": "python3"
  },
  "language_info": {
   "codemirror_mode": {
    "name": "ipython",
    "version": 2
   },
   "file_extension": ".py",
   "mimetype": "text/x-python",
   "name": "python",
   "nbconvert_exporter": "python",
   "pygments_lexer": "ipython2",
   "version": "2.7.6"
  }
 },
 "nbformat": 4,
 "nbformat_minor": 0
}