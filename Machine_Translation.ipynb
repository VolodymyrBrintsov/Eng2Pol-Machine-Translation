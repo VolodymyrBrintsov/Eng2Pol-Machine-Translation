{
  "nbformat": 4,
  "nbformat_minor": 0,
  "metadata": {
    "kernelspec": {
      "display_name": "Python 3",
      "language": "python",
      "name": "python3"
    },
    "language_info": {
      "codemirror_mode": {
        "name": "ipython",
        "version": 2
      },
      "file_extension": ".py",
      "mimetype": "text/x-python",
      "name": "python",
      "nbconvert_exporter": "python",
      "pygments_lexer": "ipython2",
      "version": "2.7.6"
    },
    "colab": {
      "name": "Machine-Translation.ipynb",
      "provenance": [],
      "collapsed_sections": []
    },
    "accelerator": "GPU"
  },
  "cells": [
    {
      "cell_type": "code",
      "metadata": {
        "collapsed": true,
        "id": "EmjjzflfH3w7"
      },
      "source": [
        "import pandas as pd\n",
        "from sklearn.model_selection import train_test_split\n",
        "import string\n",
        "from string import digits\n",
        "import re\n",
        "from sklearn.utils import shuffle\n",
        "from tensorflow.keras.preprocessing.sequence import pad_sequences\n",
        "from tensorflow.keras.layers import LSTM, Input, Dense,Embedding, Concatenate, TimeDistributed\n",
        "from tensorflow.keras.models import Model,load_model, model_from_json\n",
        "from tensorflow.keras.utils import plot_model\n",
        "from tensorflow.keras.preprocessing.text import one_hot, Tokenizer\n",
        "from tensorflow.keras.callbacks import EarlyStopping\n",
        "import numpy as np"
      ],
      "execution_count": 1,
      "outputs": []
    },
    {
      "cell_type": "markdown",
      "metadata": {
        "collapsed": false,
        "pycharm": {
          "name": "#%% md\n"
        },
        "id": "ISe9BljeH3w_"
      },
      "source": [
        "# Read the Data and Create DF"
      ]
    },
    {
      "cell_type": "code",
      "metadata": {
        "pycharm": {
          "name": "#%%\n"
        },
        "colab": {
          "base_uri": "https://localhost:8080/"
        },
        "id": "3SfQZ8LfH3xB",
        "outputId": "c067544f-f535-47fd-eac2-9662130319fa"
      },
      "source": [
        "text = open('data/pol.txt').read().split('\\n')\n",
        "print(len(text))"
      ],
      "execution_count": 2,
      "outputs": [
        {
          "output_type": "stream",
          "name": "stdout",
          "text": [
            "41179\n"
          ]
        }
      ]
    },
    {
      "cell_type": "code",
      "metadata": {
        "pycharm": {
          "name": "#%%\n"
        },
        "colab": {
          "base_uri": "https://localhost:8080/",
          "height": 206
        },
        "id": "s86iiW4KH3xC",
        "outputId": "3c6752b8-bdea-41e4-9937-e44fe2a555cf"
      },
      "source": [
        "language_df = pd.DataFrame(columns=['en', 'pl'])\n",
        "en_list = []\n",
        "pl_list = []\n",
        "for sentences in text:\n",
        "  try:\n",
        "    sentence = sentences.split('\\t')\n",
        "    pl_list.append(sentence[1])\n",
        "    en_list.append(sentence[0])\n",
        "  except: \n",
        "    continue\n",
        "\n",
        "language_df['en'] = en_list\n",
        "language_df['pl'] = pl_list\n",
        "language_df.head()"
      ],
      "execution_count": 3,
      "outputs": [
        {
          "output_type": "execute_result",
          "data": {
            "text/html": [
              "<div>\n",
              "<style scoped>\n",
              "    .dataframe tbody tr th:only-of-type {\n",
              "        vertical-align: middle;\n",
              "    }\n",
              "\n",
              "    .dataframe tbody tr th {\n",
              "        vertical-align: top;\n",
              "    }\n",
              "\n",
              "    .dataframe thead th {\n",
              "        text-align: right;\n",
              "    }\n",
              "</style>\n",
              "<table border=\"1\" class=\"dataframe\">\n",
              "  <thead>\n",
              "    <tr style=\"text-align: right;\">\n",
              "      <th></th>\n",
              "      <th>en</th>\n",
              "      <th>pl</th>\n",
              "    </tr>\n",
              "  </thead>\n",
              "  <tbody>\n",
              "    <tr>\n",
              "      <th>0</th>\n",
              "      <td>Go.</td>\n",
              "      <td>Idź.</td>\n",
              "    </tr>\n",
              "    <tr>\n",
              "      <th>1</th>\n",
              "      <td>Hi.</td>\n",
              "      <td>Cześć.</td>\n",
              "    </tr>\n",
              "    <tr>\n",
              "      <th>2</th>\n",
              "      <td>Run!</td>\n",
              "      <td>Uciekaj!</td>\n",
              "    </tr>\n",
              "    <tr>\n",
              "      <th>3</th>\n",
              "      <td>Run.</td>\n",
              "      <td>Biegnij.</td>\n",
              "    </tr>\n",
              "    <tr>\n",
              "      <th>4</th>\n",
              "      <td>Run.</td>\n",
              "      <td>Uciekaj.</td>\n",
              "    </tr>\n",
              "  </tbody>\n",
              "</table>\n",
              "</div>"
            ],
            "text/plain": [
              "     en        pl\n",
              "0   Go.      Idź.\n",
              "1   Hi.    Cześć.\n",
              "2  Run!  Uciekaj!\n",
              "3  Run.  Biegnij.\n",
              "4  Run.  Uciekaj."
            ]
          },
          "metadata": {},
          "execution_count": 3
        }
      ]
    },
    {
      "cell_type": "markdown",
      "metadata": {
        "collapsed": false,
        "pycharm": {
          "name": "#%% md\n"
        },
        "id": "cx5PrSpTH3xC"
      },
      "source": [
        "# Data Cleaning"
      ]
    },
    {
      "cell_type": "code",
      "metadata": {
        "pycharm": {
          "name": "#%%\n"
        },
        "colab": {
          "base_uri": "https://localhost:8080/",
          "height": 206
        },
        "id": "Evk5vjPHH3xC",
        "outputId": "04cb70fe-e67a-4e32-9832-f5865901c782"
      },
      "source": [
        "def clean_text(text):\n",
        "    # to lower case and remove spaces and end and start\n",
        "    text = text.lower().strip()\n",
        "    # remove digits\n",
        "    text = re.sub('\\d', '', text)\n",
        "    # remove punctuation\n",
        "    text = text.translate(str.maketrans('', '', string.punctuation))\n",
        "    return text\n",
        "\n",
        "language_df['en'] = language_df['en'].apply(clean_text)\n",
        "language_df['pl'] = language_df['pl'].apply(clean_text)\n",
        "language_df.head()"
      ],
      "execution_count": 4,
      "outputs": [
        {
          "output_type": "execute_result",
          "data": {
            "text/html": [
              "<div>\n",
              "<style scoped>\n",
              "    .dataframe tbody tr th:only-of-type {\n",
              "        vertical-align: middle;\n",
              "    }\n",
              "\n",
              "    .dataframe tbody tr th {\n",
              "        vertical-align: top;\n",
              "    }\n",
              "\n",
              "    .dataframe thead th {\n",
              "        text-align: right;\n",
              "    }\n",
              "</style>\n",
              "<table border=\"1\" class=\"dataframe\">\n",
              "  <thead>\n",
              "    <tr style=\"text-align: right;\">\n",
              "      <th></th>\n",
              "      <th>en</th>\n",
              "      <th>pl</th>\n",
              "    </tr>\n",
              "  </thead>\n",
              "  <tbody>\n",
              "    <tr>\n",
              "      <th>0</th>\n",
              "      <td>go</td>\n",
              "      <td>idź</td>\n",
              "    </tr>\n",
              "    <tr>\n",
              "      <th>1</th>\n",
              "      <td>hi</td>\n",
              "      <td>cześć</td>\n",
              "    </tr>\n",
              "    <tr>\n",
              "      <th>2</th>\n",
              "      <td>run</td>\n",
              "      <td>uciekaj</td>\n",
              "    </tr>\n",
              "    <tr>\n",
              "      <th>3</th>\n",
              "      <td>run</td>\n",
              "      <td>biegnij</td>\n",
              "    </tr>\n",
              "    <tr>\n",
              "      <th>4</th>\n",
              "      <td>run</td>\n",
              "      <td>uciekaj</td>\n",
              "    </tr>\n",
              "  </tbody>\n",
              "</table>\n",
              "</div>"
            ],
            "text/plain": [
              "    en       pl\n",
              "0   go      idź\n",
              "1   hi    cześć\n",
              "2  run  uciekaj\n",
              "3  run  biegnij\n",
              "4  run  uciekaj"
            ]
          },
          "metadata": {},
          "execution_count": 4
        }
      ]
    },
    {
      "cell_type": "code",
      "metadata": {
        "pycharm": {
          "name": "#%%\n"
        },
        "colab": {
          "base_uri": "https://localhost:8080/"
        },
        "id": "kMbPBPBJH3xD",
        "outputId": "1d25bb22-d47a-49b7-8d80-c1659102d95d"
      },
      "source": [
        "# putting START and END in polish sentences\n",
        "language_df['pl'] = language_df['pl'].apply(lambda text: \"START \"+text+\" END\")\n",
        "print(\"English Sentence: \" + language_df['en'].iloc[0])\n",
        "print(\"Polish Sentence: \" + language_df['pl'].iloc[0])"
      ],
      "execution_count": 5,
      "outputs": [
        {
          "output_type": "stream",
          "name": "stdout",
          "text": [
            "English Sentence: go\n",
            "Polish Sentence: START idź END\n"
          ]
        }
      ]
    },
    {
      "cell_type": "markdown",
      "metadata": {
        "collapsed": false,
        "pycharm": {
          "name": "#%% md\n"
        },
        "id": "8ow0bprFH3xE"
      },
      "source": [
        "# Data Preparation for Model Building"
      ]
    },
    {
      "cell_type": "code",
      "metadata": {
        "pycharm": {
          "name": "#%%\n"
        },
        "colab": {
          "base_uri": "https://localhost:8080/"
        },
        "id": "8jFL9PXEH3xE",
        "outputId": "5896a4db-35e4-4da8-f0df-7a3798764733"
      },
      "source": [
        "import numpy as np\n",
        "\n",
        "# train test split\n",
        "x = language_df['en']\n",
        "y = language_df['pl']\n",
        "x_train, x_test, y_train, y_test = train_test_split(x, y, test_size=0.1)\n",
        "\n",
        "# determine the maximum length of sentence\n",
        "def determine_sentence_len(data):\n",
        "    lenghts = [len(x.split(' ')) for x in data]\n",
        "    return round(np.mean(lenghts) + 2 * np.std(lenghts))\n",
        "max_len_en = determine_sentence_len(x_train)\n",
        "max_len_pl = determine_sentence_len(y_train)\n",
        "max_len_en, max_len_pl\n"
      ],
      "execution_count": 6,
      "outputs": [
        {
          "output_type": "execute_result",
          "data": {
            "text/plain": [
              "(11, 12)"
            ]
          },
          "metadata": {},
          "execution_count": 6
        }
      ]
    },
    {
      "cell_type": "code",
      "metadata": {
        "pycharm": {
          "name": "#%%\n"
        },
        "colab": {
          "base_uri": "https://localhost:8080/"
        },
        "id": "nqfIq0CoH3xF",
        "outputId": "55f9aec8-a0d7-4bfa-a2f8-d84216612744"
      },
      "source": [
        "# Tokenization\n",
        "en_tokenizer = Tokenizer()\n",
        "en_tokenizer.fit_on_texts(x_train)\n",
        "en_word2index = en_tokenizer.word_index\n",
        "vocab_size_en = len(en_word2index) + 1\n",
        "\n",
        "x_train = en_tokenizer.texts_to_sequences(x_train)\n",
        "x_train = pad_sequences(x_train, maxlen=max_len_en, padding='post')\n",
        "x_test = en_tokenizer.texts_to_sequences(x_test)\n",
        "x_test = pad_sequences(x_test, maxlen = max_len_en, padding='post')\n",
        "\n",
        "pl_tokenizer = Tokenizer()\n",
        "pl_tokenizer.fit_on_texts(y_train)\n",
        "pl_word2index = pl_tokenizer.word_index\n",
        "vocab_size_pl = len(pl_word2index) + 1\n",
        "\n",
        "y_train = pl_tokenizer.texts_to_sequences(y_train)\n",
        "y_train = pad_sequences(y_train, maxlen=max_len_pl, padding='post')\n",
        "y_test = pl_tokenizer.texts_to_sequences(y_test)\n",
        "y_test = pad_sequences(y_test, maxlen = max_len_pl, padding='post')\n",
        "\n",
        "vocab_size_en, vocab_size_pl"
      ],
      "execution_count": 7,
      "outputs": [
        {
          "output_type": "execute_result",
          "data": {
            "text/plain": [
              "(8044, 20242)"
            ]
          },
          "metadata": {},
          "execution_count": 7
        }
      ]
    },
    {
      "cell_type": "code",
      "metadata": {
        "colab": {
          "base_uri": "https://localhost:8080/"
        },
        "id": "GaGEAU6RGEkm",
        "outputId": "b7165719-54eb-4f78-bae6-5d7cca7cb542"
      },
      "source": [
        "x_train = np.array(x_train)\n",
        "y_train = np.array(y_train)\n",
        "x_test = np.array(x_test)\n",
        "y_test = np.array(y_test)\n",
        "x_train[0], y_train[0]"
      ],
      "execution_count": 8,
      "outputs": [
        {
          "output_type": "execute_result",
          "data": {
            "text/plain": [
              "(array([ 19, 683,   2,  15,   0,   0,   0,   0,   0,   0,   0], dtype=int32),\n",
              " array([   1,    3, 3329,   17,    2,    0,    0,    0,    0,    0,    0,\n",
              "           0], dtype=int32))"
            ]
          },
          "metadata": {},
          "execution_count": 8
        }
      ]
    },
    {
      "cell_type": "markdown",
      "metadata": {
        "collapsed": false,
        "pycharm": {
          "name": "#%% md\n"
        },
        "id": "DJtyJQicH3xG"
      },
      "source": [
        "# Define Model"
      ]
    },
    {
      "cell_type": "markdown",
      "metadata": {
        "collapsed": false,
        "pycharm": {
          "name": "#%% md\n"
        },
        "id": "TCgKVKmAH3xG"
      },
      "source": [
        "## Encoder"
      ]
    },
    {
      "cell_type": "code",
      "metadata": {
        "pycharm": {
          "name": "#%%\n"
        },
        "id": "h3nuoHcRH3xG"
      },
      "source": [
        "from keras import backend as K \n",
        "K.clear_session() \n",
        "latent_dim = 500\n",
        "# Encoder \n",
        "encoder_inputs = Input(shape=(max_len_en,)) \n",
        "enc_emb = Embedding(vocab_size_en, latent_dim,trainable=True)(encoder_inputs)\n",
        "#LSTM 1 \n",
        "encoder_lstm1 = LSTM(latent_dim,return_sequences=True,return_state=True) \n",
        "encoder_output1, state_h1, state_c1 = encoder_lstm1(enc_emb)\n",
        "#LSTM 2 \n",
        "encoder_lstm2 = LSTM(latent_dim,return_sequences=True,return_state=True) \n",
        "encoder_output2, state_h2, state_c2 = encoder_lstm2(encoder_output1)\n",
        "#LSTM 3 \n",
        "encoder_lstm3=LSTM(latent_dim, return_state=True, return_sequences=True) \n",
        "encoder_outputs, state_h, state_c= encoder_lstm3(encoder_output2)"
      ],
      "execution_count": 9,
      "outputs": []
    },
    {
      "cell_type": "markdown",
      "metadata": {
        "collapsed": false,
        "pycharm": {
          "name": "#%% md\n"
        },
        "id": "ULbpIb5tH3xH"
      },
      "source": [
        "## Decoder"
      ]
    },
    {
      "cell_type": "code",
      "metadata": {
        "pycharm": {
          "name": "#%%\n"
        },
        "id": "Lwyv-k-nH3xH"
      },
      "source": [
        "# Set up the decoder. \n",
        "decoder_inputs = Input(shape=(None,)) \n",
        "dec_emb_layer = Embedding(vocab_size_pl, latent_dim,trainable=True) \n",
        "dec_emb = dec_emb_layer(decoder_inputs)\n",
        "#LSTM using encoder_states as initial state\n",
        "decoder_lstm = LSTM(latent_dim, return_sequences=True, return_state=True) \n",
        "decoder_outputs,decoder_fwd_state, decoder_back_state = decoder_lstm(dec_emb,initial_state=[state_h, state_c])\n",
        "#Dense layer\n",
        "decoder_dense = Dense(vocab_size_pl, activation='softmax') \n",
        "decoder_outputs = decoder_dense(decoder_outputs)"
      ],
      "execution_count": 10,
      "outputs": []
    },
    {
      "cell_type": "markdown",
      "metadata": {
        "collapsed": false,
        "pycharm": {
          "name": "#%% md\n"
        },
        "id": "N-cAiwB3H3xH"
      },
      "source": [
        "## Define Model"
      ]
    },
    {
      "cell_type": "code",
      "metadata": {
        "pycharm": {
          "name": "#%%\n"
        },
        "colab": {
          "base_uri": "https://localhost:8080/",
          "height": 754
        },
        "id": "s-P8foAqH3xH",
        "outputId": "3010af94-36f1-470e-ca72-da2d8b84d4b7"
      },
      "source": [
        "model = Model([encoder_inputs, decoder_inputs], decoder_outputs)\n",
        "plot_model(model, show_shapes=True)"
      ],
      "execution_count": 11,
      "outputs": [
        {
          "output_type": "execute_result",
          "data": {
            "image/png": "[encoded data removed]",
            "text/plain": [
              "<IPython.core.display.Image object>"
            ]
          },
          "metadata": {},
          "execution_count": 11
        }
      ]
    },
    {
      "cell_type": "code",
      "metadata": {
        "pycharm": {
          "name": "#%%\n"
        },
        "colab": {
          "base_uri": "https://localhost:8080/"
        },
        "id": "meVVxYxlH3xI",
        "outputId": "75919cf2-4806-4be4-c97f-13a75aaf27d0"
      },
      "source": [
        "model.compile(loss='sparse_categorical_crossentropy', optimizer='rmsprop', metrics=['accuracy'])\n",
        "history = model.fit([x_train, y_train[:,:-1]], y_train.reshape(y_train.shape[0], y_train.shape[1],1)[:,1:],\n",
        "                    epochs=50,\n",
        "                    batch_size=512,\n",
        "                    validation_data = ([x_test, y_test[:,:-1]], y_test.reshape(y_test.shape[0], y_test.shape[1], 1)[:,1:]))"
      ],
      "execution_count": 12,
      "outputs": [
        {
          "output_type": "stream",
          "name": "stdout",
          "text": [
            "Epoch 1/50\n",
            "73/73 [==============================] - 53s 603ms/step - loss: 3.9719 - accuracy: 0.5097 - val_loss: 3.0879 - val_accuracy: 0.5916\n",
            "Epoch 2/50\n",
            "73/73 [==============================] - 42s 576ms/step - loss: 3.2531 - accuracy: 0.5753 - val_loss: 2.8889 - val_accuracy: 0.5999\n",
            "Epoch 3/50\n",
            "73/73 [==============================] - 42s 576ms/step - loss: 3.0226 - accuracy: 0.5902 - val_loss: 2.7100 - val_accuracy: 0.6187\n",
            "Epoch 4/50\n",
            "73/73 [==============================] - 42s 575ms/step - loss: 2.8174 - accuracy: 0.6072 - val_loss: 2.5833 - val_accuracy: 0.6313\n",
            "Epoch 5/50\n",
            "73/73 [==============================] - 42s 577ms/step - loss: 2.6348 - accuracy: 0.6210 - val_loss: 2.4444 - val_accuracy: 0.6451\n",
            "Epoch 6/50\n",
            "73/73 [==============================] - 42s 574ms/step - loss: 2.4676 - accuracy: 0.6342 - val_loss: 2.3607 - val_accuracy: 0.6540\n",
            "Epoch 7/50\n",
            "73/73 [==============================] - 42s 576ms/step - loss: 2.3145 - accuracy: 0.6470 - val_loss: 2.2757 - val_accuracy: 0.6609\n",
            "Epoch 8/50\n",
            "73/73 [==============================] - 42s 574ms/step - loss: 2.1739 - accuracy: 0.6596 - val_loss: 2.2077 - val_accuracy: 0.6703\n",
            "Epoch 9/50\n",
            "73/73 [==============================] - 42s 577ms/step - loss: 2.0420 - accuracy: 0.6704 - val_loss: 2.1618 - val_accuracy: 0.6738\n",
            "Epoch 10/50\n",
            "73/73 [==============================] - 42s 575ms/step - loss: 1.9184 - accuracy: 0.6816 - val_loss: 2.0954 - val_accuracy: 0.6809\n",
            "Epoch 11/50\n",
            "73/73 [==============================] - 42s 577ms/step - loss: 1.8026 - accuracy: 0.6924 - val_loss: 2.0457 - val_accuracy: 0.6878\n",
            "Epoch 12/50\n",
            "73/73 [==============================] - 42s 574ms/step - loss: 1.6896 - accuracy: 0.7040 - val_loss: 2.0213 - val_accuracy: 0.6915\n",
            "Epoch 13/50\n",
            "73/73 [==============================] - 42s 575ms/step - loss: 1.5839 - accuracy: 0.7151 - val_loss: 1.9926 - val_accuracy: 0.6946\n",
            "Epoch 14/50\n",
            "73/73 [==============================] - 42s 574ms/step - loss: 1.4817 - accuracy: 0.7265 - val_loss: 1.9644 - val_accuracy: 0.6979\n",
            "Epoch 15/50\n",
            "73/73 [==============================] - 42s 577ms/step - loss: 1.3842 - accuracy: 0.7393 - val_loss: 1.9399 - val_accuracy: 0.7022\n",
            "Epoch 16/50\n",
            "73/73 [==============================] - 42s 575ms/step - loss: 1.2906 - accuracy: 0.7521 - val_loss: 1.9191 - val_accuracy: 0.7052\n",
            "Epoch 17/50\n",
            "73/73 [==============================] - 42s 577ms/step - loss: 1.2013 - accuracy: 0.7656 - val_loss: 1.9177 - val_accuracy: 0.7076\n",
            "Epoch 18/50\n",
            "73/73 [==============================] - 42s 577ms/step - loss: 1.1165 - accuracy: 0.7794 - val_loss: 1.8943 - val_accuracy: 0.7111\n",
            "Epoch 19/50\n",
            "73/73 [==============================] - 42s 575ms/step - loss: 1.0336 - accuracy: 0.7939 - val_loss: 1.9125 - val_accuracy: 0.7091\n",
            "Epoch 20/50\n",
            "73/73 [==============================] - 42s 576ms/step - loss: 0.9529 - accuracy: 0.8092 - val_loss: 1.8865 - val_accuracy: 0.7140\n",
            "Epoch 21/50\n",
            "73/73 [==============================] - 42s 577ms/step - loss: 0.8771 - accuracy: 0.8240 - val_loss: 1.9033 - val_accuracy: 0.7122\n",
            "Epoch 22/50\n",
            "73/73 [==============================] - 42s 574ms/step - loss: 0.8049 - accuracy: 0.8389 - val_loss: 1.8805 - val_accuracy: 0.7176\n",
            "Epoch 23/50\n",
            "73/73 [==============================] - 42s 577ms/step - loss: 0.7363 - accuracy: 0.8536 - val_loss: 1.8872 - val_accuracy: 0.7176\n",
            "Epoch 24/50\n",
            "73/73 [==============================] - 42s 575ms/step - loss: 0.6723 - accuracy: 0.8678 - val_loss: 1.9030 - val_accuracy: 0.7161\n",
            "Epoch 25/50\n",
            "73/73 [==============================] - 42s 576ms/step - loss: 0.6087 - accuracy: 0.8813 - val_loss: 1.8983 - val_accuracy: 0.7192\n",
            "Epoch 26/50\n",
            "73/73 [==============================] - 42s 576ms/step - loss: 0.5501 - accuracy: 0.8942 - val_loss: 1.9056 - val_accuracy: 0.7198\n",
            "Epoch 27/50\n",
            "73/73 [==============================] - 42s 579ms/step - loss: 0.4971 - accuracy: 0.9055 - val_loss: 1.9257 - val_accuracy: 0.7185\n",
            "Epoch 28/50\n",
            "73/73 [==============================] - 42s 575ms/step - loss: 0.4465 - accuracy: 0.9166 - val_loss: 1.9306 - val_accuracy: 0.7206\n",
            "Epoch 29/50\n",
            "73/73 [==============================] - 42s 578ms/step - loss: 0.4005 - accuracy: 0.9265 - val_loss: 1.9402 - val_accuracy: 0.7211\n",
            "Epoch 30/50\n",
            "73/73 [==============================] - 42s 575ms/step - loss: 0.3569 - accuracy: 0.9363 - val_loss: 1.9517 - val_accuracy: 0.7206\n",
            "Epoch 31/50\n",
            "73/73 [==============================] - 42s 578ms/step - loss: 0.3177 - accuracy: 0.9449 - val_loss: 1.9740 - val_accuracy: 0.7214\n",
            "Epoch 32/50\n",
            "73/73 [==============================] - 42s 575ms/step - loss: 0.2813 - accuracy: 0.9519 - val_loss: 1.9818 - val_accuracy: 0.7225\n",
            "Epoch 33/50\n",
            "73/73 [==============================] - 42s 577ms/step - loss: 0.2481 - accuracy: 0.9590 - val_loss: 1.9966 - val_accuracy: 0.7213\n",
            "Epoch 34/50\n",
            "73/73 [==============================] - 42s 576ms/step - loss: 0.2192 - accuracy: 0.9644 - val_loss: 2.0188 - val_accuracy: 0.7205\n",
            "Epoch 35/50\n",
            "73/73 [==============================] - 42s 576ms/step - loss: 0.1932 - accuracy: 0.9693 - val_loss: 2.0350 - val_accuracy: 0.7197\n",
            "Epoch 36/50\n",
            "73/73 [==============================] - 42s 575ms/step - loss: 0.1701 - accuracy: 0.9736 - val_loss: 2.0588 - val_accuracy: 0.7214\n",
            "Epoch 37/50\n",
            "73/73 [==============================] - 42s 577ms/step - loss: 0.1497 - accuracy: 0.9773 - val_loss: 2.0695 - val_accuracy: 0.7205\n",
            "Epoch 38/50\n",
            "73/73 [==============================] - 42s 576ms/step - loss: 0.1317 - accuracy: 0.9800 - val_loss: 2.0914 - val_accuracy: 0.7220\n",
            "Epoch 39/50\n",
            "73/73 [==============================] - 42s 575ms/step - loss: 0.1170 - accuracy: 0.9823 - val_loss: 2.1231 - val_accuracy: 0.7176\n",
            "Epoch 40/50\n",
            "73/73 [==============================] - 42s 574ms/step - loss: 0.1038 - accuracy: 0.9842 - val_loss: 2.1280 - val_accuracy: 0.7213\n",
            "Epoch 41/50\n",
            "73/73 [==============================] - 42s 577ms/step - loss: 0.0939 - accuracy: 0.9852 - val_loss: 2.1442 - val_accuracy: 0.7194\n",
            "Epoch 42/50\n",
            "73/73 [==============================] - 42s 574ms/step - loss: 0.0848 - accuracy: 0.9861 - val_loss: 2.1667 - val_accuracy: 0.7197\n",
            "Epoch 43/50\n",
            "73/73 [==============================] - 42s 577ms/step - loss: 0.0759 - accuracy: 0.9874 - val_loss: 2.1938 - val_accuracy: 0.7201\n",
            "Epoch 44/50\n",
            "73/73 [==============================] - 42s 574ms/step - loss: 0.0698 - accuracy: 0.9878 - val_loss: 2.2002 - val_accuracy: 0.7197\n",
            "Epoch 45/50\n",
            "73/73 [==============================] - 42s 575ms/step - loss: 0.0645 - accuracy: 0.9882 - val_loss: 2.2161 - val_accuracy: 0.7196\n",
            "Epoch 46/50\n",
            "73/73 [==============================] - 42s 574ms/step - loss: 0.0599 - accuracy: 0.9884 - val_loss: 2.2407 - val_accuracy: 0.7185\n",
            "Epoch 47/50\n",
            "73/73 [==============================] - 42s 576ms/step - loss: 0.0561 - accuracy: 0.9888 - val_loss: 2.2457 - val_accuracy: 0.7201\n",
            "Epoch 48/50\n",
            "73/73 [==============================] - 42s 576ms/step - loss: 0.0524 - accuracy: 0.9892 - val_loss: 2.2586 - val_accuracy: 0.7210\n",
            "Epoch 49/50\n",
            "73/73 [==============================] - 42s 575ms/step - loss: 0.0499 - accuracy: 0.9892 - val_loss: 2.2726 - val_accuracy: 0.7211\n",
            "Epoch 50/50\n",
            "73/73 [==============================] - 42s 575ms/step - loss: 0.0477 - accuracy: 0.9893 - val_loss: 2.2898 - val_accuracy: 0.7201\n"
          ]
        }
      ]
    },
    {
      "cell_type": "code",
      "metadata": {
        "pycharm": {
          "name": "#%%\n",
          "is_executing": true
        },
        "colab": {
          "base_uri": "https://localhost:8080/",
          "height": 265
        },
        "id": "dtqhwpVUH3xI",
        "outputId": "327597eb-9636-43c4-8380-dedc0c79e04d"
      },
      "source": [
        "from matplotlib import pyplot\n",
        "pyplot.plot(history.history['loss'], label='train')\n",
        "pyplot.plot(history.history['val_loss'], label='test')\n",
        "pyplot.legend()\n",
        "pyplot.show()"
      ],
      "execution_count": 13,
      "outputs": [
        {
          "output_type": "display_data",
          "data": {
            "image/png": "[encoded data removed]",
            "text/plain": [
              "<Figure size 432x288 with 1 Axes>"
            ]
          },
          "metadata": {
            "needs_background": "light"
          }
        }
      ]
    },
    {
      "cell_type": "markdown",
      "metadata": {
        "id": "qRL3AYe-0y6i"
      },
      "source": [
        "# Make a Predictions"
      ]
    },
    {
      "cell_type": "code",
      "metadata": {
        "pycharm": {
          "name": "#%%\n",
          "is_executing": true
        },
        "id": "KR7Z221TH3xI"
      },
      "source": [
        "latent_dim=500\n",
        "# encoder inference\n",
        "encoder_inputs = model.input[0]  #loading encoder_inputs\n",
        "encoder_outputs, state_h, state_c = model.layers[6].output #loading encoder_outputs\n",
        "#print(encoder_outputs.shape)\n",
        "encoder_model = Model(inputs=encoder_inputs,outputs=[encoder_outputs, state_h, state_c])\n",
        "# decoder inference\n",
        "# Below tensors will hold the states of the previous time step\n",
        "decoder_state_input_h = Input(shape=(latent_dim,))\n",
        "decoder_state_input_c = Input(shape=(latent_dim,))\n",
        "decoder_hidden_state_input = Input(shape=(max_len_pl-1,latent_dim))\n",
        "# Get the embeddings of the decoder sequence\n",
        "decoder_inputs = model.layers[3].output\n",
        "#print(decoder_inputs.shape)\n",
        "dec_emb_layer = model.layers[5]\n",
        "dec_emb2= dec_emb_layer(decoder_inputs)\n",
        "# To predict the next word in the sequence, set the initial states to the states from the previous time step\n",
        "decoder_lstm = model.layers[7]\n",
        "decoder_outputs2, state_h2, state_c2 = decoder_lstm(dec_emb2, initial_state=[decoder_state_input_h, decoder_state_input_c])\n",
        "# A dense softmax layer to generate prob dist. over the target vocabulary\n",
        "decoder_dense = model.layers[-1]\n",
        "decoder_outputs2 = decoder_dense(decoder_outputs2)\n",
        "# Final decoder model\n",
        "decoder_model = Model(\n",
        "[decoder_inputs] + [decoder_hidden_state_input,decoder_state_input_h, decoder_state_input_c],\n",
        "[decoder_outputs2] + [state_h2, state_c2])"
      ],
      "execution_count": 19,
      "outputs": []
    },
    {
      "cell_type": "code",
      "metadata": {
        "id": "3gM4Rpxd3BkJ"
      },
      "source": [
        "def decode_sequence(input_seq):\n",
        "    # Encode the input as state vectors.\n",
        "    e_out, e_h, e_c = encoder_model.predict(input_seq)\n",
        "    # Generate empty target sequence of length 1.\n",
        "    target_seq = np.zeros((1,1))\n",
        "    # Chose the 'start' word as the first word of the target sequence\n",
        "    target_seq[0, 0] = pl_word2index['start']\n",
        "    stop_condition = False\n",
        "    decoded_sentence = ''\n",
        "    while not stop_condition:\n",
        "      output_tokens, h, c = decoder_model.predict([target_seq] + [e_out, e_h, e_c])\n",
        "      # Sample a token\n",
        "      sampled_token_index = np.argmax(output_tokens[0, -1, :])\n",
        "      if sampled_token_index == 0:\n",
        "        break\n",
        "      else:\n",
        "        sampled_token = pl_index2word[sampled_token_index]\n",
        "        if(sampled_token!='end'):\n",
        "          decoded_sentence += ' '+sampled_token\n",
        "          # Exit condition: either hit max length or find stop word.\n",
        "        if (sampled_token == 'end' or len(decoded_sentence.split()) >= (max_len_pl-1)):\n",
        "          stop_condition = True\n",
        "        # Update the target sequence (of length 1).\n",
        "        target_seq = np.zeros((1,1))\n",
        "        target_seq[0, 0] = sampled_token_index\n",
        "        # Update internal states\n",
        "        e_h, e_c = h, c\n",
        "    return decoded_sentence"
      ],
      "execution_count": 20,
      "outputs": []
    },
    {
      "cell_type": "code",
      "metadata": {
        "id": "apzX6KYs3Pon"
      },
      "source": [
        "en_index2word = en_tokenizer.index_word\n",
        "pl_index2word = pl_tokenizer.index_word\n",
        "def seq2summary(input_seq):\n",
        "    new_string = ''\n",
        "    for i in input_seq:\n",
        "      if((i!=0 and i!=pl_word2index['start']) and i!=pl_word2index['end']):\n",
        "        new_string += pl_index2word[i]+' '\n",
        "    return new_string\n",
        "\n",
        "def seq2text(input_seq):\n",
        "    new_string=''\n",
        "    for i in input_seq:\n",
        "      if(i!=0):\n",
        "        new_string += en_index2word[i]+' '\n",
        "    return new_string"
      ],
      "execution_count": 21,
      "outputs": []
    },
    {
      "cell_type": "code",
      "metadata": {
        "colab": {
          "base_uri": "https://localhost:8080/"
        },
        "id": "A27vb29xJGP6",
        "outputId": "1c236997-07b9-477f-92bf-c736ad81bca0"
      },
      "source": [
        "for i in range(10):  \n",
        "  print(\"Review:\",seq2text(x_train[i]))\n",
        "  print(\"Original summary:\",seq2summary(y_train[i]))\n",
        "  print(\"Predicted summary:\",decode_sequence(x_train[i].reshape(1,max_len_pl-1)))\n",
        "  print(\"\\n\")"
      ],
      "execution_count": 23,
      "outputs": [
        {
          "output_type": "stream",
          "name": "stdout",
          "text": [
            "Review: dont lie to me \n",
            "Original summary: nie kłam mi \n",
            "Predicted summary:  nie kłam mi\n",
            "\n",
            "\n",
            "Review: tom loves gambling \n",
            "Original summary: tom uwielbia hazard \n",
            "Predicted summary:  tom uwielbia hazard\n",
            "\n",
            "\n",
            "Review: salmon is my favorite fish to eat \n",
            "Original summary: łosoś jest moją ulubioną rybą \n",
            "Predicted summary:  łosoś jest moją ulubioną rybą\n",
            "\n",
            "\n",
            "Review: her husband has been in prison for three years \n",
            "Original summary: jej mąż odsiaduje wyrok trzech lat więzienia \n",
            "Predicted summary:  jej mąż odsiaduje wyrok trzech lat więzienia\n",
            "\n",
            "\n",
            "Review: lets go have lunch \n",
            "Original summary: chodźmy na lunch \n",
            "Predicted summary:  chodźmy na lunch\n",
            "\n",
            "\n",
            "Review: hey what are you doing here \n",
            "Original summary: hej co ty tutaj robisz \n",
            "Predicted summary:  hej co ty tutaj robisz\n",
            "\n",
            "\n",
            "Review: why should i trust you \n",
            "Original summary: dlaczego powinienem ci zaufać \n",
            "Predicted summary:  dlaczego powinienem ci zaufać\n",
            "\n",
            "\n",
            "Review: this is my car \n",
            "Original summary: to mój samochód \n",
            "Predicted summary:  to mój samochód\n",
            "\n",
            "\n",
            "Review: im undressing \n",
            "Original summary: rozbieram się \n",
            "Predicted summary:  rozbieram się\n",
            "\n",
            "\n",
            "Review: do you have any feedback for us \n",
            "Original summary: czy masz jakąś nową opinę dla nas \n",
            "Predicted summary:  czy masz jakąś nową opinę dla nas\n",
            "\n",
            "\n"
          ]
        }
      ]
    },
    {
      "cell_type": "code",
      "metadata": {
        "colab": {
          "base_uri": "https://localhost:8080/"
        },
        "id": "2036ilxAKwIO",
        "outputId": "be710c9b-4522-4120-d922-ecde5bf48bf4"
      },
      "source": [
        "sentence = \"what are you going to do in the evening\"\n",
        "sentence = sentence.lower().split(' ')\n",
        "decoded_sentence = np.array([en_word2index[w] for w in sentence] + [0]*(max_len_pl- 1 - len([en_word2index[w] for w in sentence])))\n",
        "print(\"Sentence we want to translate:\", \" \".join(sentence))\n",
        "print(\"Predicted summary:\",decode_sequence(decoded_sentence.reshape(1,max_len_pl-1)))"
      ],
      "execution_count": 40,
      "outputs": [
        {
          "output_type": "stream",
          "name": "stdout",
          "text": [
            "Sentence we want to translate: what are you going to do in the evening\n",
            "Predicted summary:  co zamierzasz robić po południu\n"
          ]
        }
      ]
    },
    {
      "cell_type": "code",
      "metadata": {
        "id": "juRYtU_4Vuy9"
      },
      "source": [
        "model.save('model.h5')"
      ],
      "execution_count": 41,
      "outputs": []
    },
    {
      "cell_type": "code",
      "metadata": {
        "id": "STpwOpkNW-1R"
      },
      "source": [
        ""
      ],
      "execution_count": null,
      "outputs": []
    },
    {
      "cell_type": "code",
      "metadata": {
        "id": "NYyyAv8iXBMU"
      },
      "source": [
        ""
      ],
      "execution_count": null,
      "outputs": []
    }
  ]
}